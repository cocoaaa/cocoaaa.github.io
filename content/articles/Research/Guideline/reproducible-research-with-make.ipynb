{
 "cells": [
  {
   "cell_type": "markdown",
   "metadata": {
    "Collapsed": "false"
   },
   "source": [
    "# Reproducible Research\n",
    "## use `Make` \n",
    "- Date: 2020-02-22\n"
   ]
  },
  {
   "cell_type": "markdown",
   "metadata": {
    "Collapsed": "false"
   },
   "source": [
    "- A research project ca be seen as a tree of dependencies\n",
    "    - the report depends on the figures and tables\n",
    "    - the figurese and tables depend on the data and the analysis scripts used to process this data\n",
    "    \n",
    "- Make is a tool for creating output files from their dependencies through pre-specified rules\n",
    "- Make is a build automatio tool\n",
    "    - Makefile: a configuratio file that contains the _rules_ for what to build\n",
    "    - Make builds _targets_ using _recipes_\n",
    "    - _targets_ can optionally have _prerequisites\n",
    "    - _prerequisites_ can be files on your computer or other targets: _prerequisites_ == dependent files/targets\n",
    "    - Make figures out what to build based on the DAC of the targets and prerequisites (ie. its dependencies)\n",
    "        - the targets are updated only when needed, based on the _modification_ time of their dependencies\n",
    "    - Phony targets (eg. `all`, `clean`): targets that don't actually create an output file\n",
    "        - they are always run if they come up in a dependency\n",
    "        - but will no longer  be run if a directory/file is ever created that is called `all` or `clean`\n",
    "        - To define targets as `Phony target`, add a line at the top of the Makefile like:\n",
    "        ```make\n",
    "        .PHONY: all clean test\n",
    "        ```\n",
    "    - Automatic Variables and Pattern Rules\n",
    "        - `$<`: first prerequisite\n",
    "        - `$@`: target\n",
    "        - `%`: wildcard for pattern rules\n",
    "    - Variables and Functions: both use `$(...)` syntax. For example,\n",
    "    ```make\n",
    "    ALL_CSV = $(wildcard data/*.csv)\n",
    "    INPUT_CSV = $(wildcard data/input_file_*.csv)\n",
    "    DATA = $(filter-out $(INPUT_CSV),$(ALL_CSV)\n",
    "    ```\n",
    "## Caveats\n",
    "- Use space as the delimiter. Don't use `,`.\n",
    "- Indent with __tabs__ in Makefiles. Makefiles do not accept indentation with spaces\n",
    "- Make executes each line of a Makefile __independently__ in a __separate subshell__\n",
    "- Make executes the __first target__ when no explicit target is given\n",
    "\n",
    "## Recommendation\n",
    "- Put `all` as the first target in the Makefile\n",
    "- Name the main target `all`: it's a convention many people follow\n",
    "    - `all` == reference to the main target of the Makefile \n",
    "    - In other words, this is the target that generates the main desired output(s)\n",
    "    - Put multiple outputs as the prerequisite of the main target (`all`)\n",
    "    - This allows the user to call `make` in the commandline, and get the desired output(s)\n",
    "        - All the other rules are there to help build that output (in the simplest case)\n",
    "- Design your project's directory structure and Makefile hand in hand\n",
    "- Use all capitals for variable names; define variables at the top of the Makefile\n",
    "- _start small and start early!_\n"
   ]
  },
  {
   "cell_type": "markdown",
   "metadata": {
    "Collapsed": "false"
   },
   "source": [
    "## Source\n",
    "- the Turing Way: [jupyter book](https://the-turing-way.netlify.com/make/make.html#makefile-no-4-automatic-variables-and-pattern-rules)\n",
    "\n",
    "## More\n",
    "- [SnakeMake]: a Python3-based alternative to Make\n",
    "    - [video](https://tinyurl.com/sfdlljp), [slides](https://tinyurl.com/rqb2rnq)\n",
    "    - [doc](https://snakemake.readthedocs.io/en/stable/)"
   ]
  }
 ],
 "metadata": {
  "kernelspec": {
   "display_name": "Python [conda env:torch-src]",
   "language": "python",
   "name": "conda-env-torch-src-py"
  },
  "language_info": {
   "codemirror_mode": {
    "name": "ipython",
    "version": 3
   },
   "file_extension": ".py",
   "mimetype": "text/x-python",
   "name": "python",
   "nbconvert_exporter": "python",
   "pygments_lexer": "ipython3",
   "version": "3.7.3"
  }
 },
 "nbformat": 4,
 "nbformat_minor": 4
}
