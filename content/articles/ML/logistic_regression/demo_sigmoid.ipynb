{
 "cells": [
  {
   "cell_type": "markdown",
   "metadata": {},
   "source": [
    "## Load libraries"
   ]
  },
  {
   "cell_type": "code",
   "execution_count": 7,
   "metadata": {},
   "outputs": [],
   "source": [
    "%reload_ext autoreload\n",
    "%autoreload 2\n",
    "%matplotlib inline"
   ]
  },
  {
   "cell_type": "code",
   "execution_count": 8,
   "metadata": {},
   "outputs": [],
   "source": [
    "from IPython.core.interactiveshell import InteractiveShell\n",
    "# InteractiveShell.ast_node_interactivity = \"all\"\n",
    "InteractiveShell.ast_node_interactivity = 'last_expr'"
   ]
  },
  {
   "cell_type": "code",
   "execution_count": 9,
   "metadata": {},
   "outputs": [],
   "source": [
    "import os,sys\n",
    "import re\n",
    "\n",
    "sys.dont_write_bytecode = True"
   ]
  },
  {
   "cell_type": "code",
   "execution_count": 10,
   "metadata": {},
   "outputs": [],
   "source": [
    "import pandas as pd\n",
    "# import geopandas as gpd\n",
    "from sklearn.externals import joblib\n",
    "\n",
    "import numpy as np\n",
    "import matplotlib.pyplot as plt\n",
    "import cv2\n",
    "\n",
    "from pprint import pprint\n",
    "from pathlib import Path\n",
    "\n",
    "import pdb"
   ]
  },
  {
   "cell_type": "code",
   "execution_count": 17,
   "metadata": {},
   "outputs": [
    {
     "name": "stdout",
     "output_type": "stream",
     "text": [
      "Project root:  /home/hayley/Playground/Spacenet_Preprocess\n",
      "this nb path:  /home/hayley/Playground/Spacenet_Preprocess/notebooks/examples\n",
      "Scripts folder:  /home/hayley/Playground/Spacenet_Preprocess/scripts\n",
      "['/home/hayley/Playground/Spacenet_Preprocess/notebooks/scripts', '/home/hayley/Playground/Spacenet_Preprocess/notebooks', '/home/hayley/Playground/Spacenet_Preprocess/scripts', '/home/hayley/Playground/Spacenet_Preprocess/notebooks/examples', '/home/hayley/miniconda3/envs/fastai/lib/python36.zip', '/home/hayley/miniconda3/envs/fastai/lib/python3.6', '/home/hayley/miniconda3/envs/fastai/lib/python3.6/lib-dynload', '', '/home/hayley/miniconda3/envs/fastai/lib/python3.6/site-packages', '/home/hayley/miniconda3/envs/fastai/lib/python3.6/site-packages/IPython/extensions', '/home/hayley/.ipython']\n"
     ]
    }
   ],
   "source": [
    "this_nb_path = Path(os.getcwd())\n",
    "ROOT = this_nb_path.parent.parent\n",
    "SCRIPTS = ROOT/'scripts'\n",
    "paths2add = [this_nb_path, SCRIPTS]\n",
    "\n",
    "print(\"Project root: \", str(ROOT))\n",
    "print(\"this nb path: \", str(this_nb_path))\n",
    "print('Scripts folder: ', str(SCRIPTS))\n",
    "\n",
    "for p in paths2add:\n",
    "    if str(p) not in sys.path:\n",
    "        sys.path.insert(0, str(p))\n",
    "        print(str(p), \"added to the path\\n\")\n",
    "        \n",
    "print(sys.path)"
   ]
  },
  {
   "cell_type": "code",
   "execution_count": 12,
   "metadata": {},
   "outputs": [],
   "source": [
    "# Load custom helper libraries\n",
    "import output_helpers as oh\n",
    "import convert_helpers as ch\n",
    "import viz_helpers as vh\n"
   ]
  },
  {
   "cell_type": "markdown",
   "metadata": {},
   "source": [
    "## Link fastai library"
   ]
  },
  {
   "cell_type": "code",
   "execution_count": 13,
   "metadata": {},
   "outputs": [
    {
     "name": "stdout",
     "output_type": "stream",
     "text": [
      "/home/hayley/Workspace/fastai/old/fastai, /home/hayley/Playground/Spacenet_Preprocess/notebooks/examples/fastai\n"
     ]
    }
   ],
   "source": [
    "FASTAI_ROOT = '/home/hayley/Workspace/fastai/old/fastai'\n",
    "FASTAI_SYMLINK = os.path.join(this_nb_path, 'fastai')\n",
    "!echo {FASTAI_ROOT}, {FASTAI_SYMLINK}"
   ]
  },
  {
   "cell_type": "code",
   "execution_count": 14,
   "metadata": {},
   "outputs": [],
   "source": [
    "# !ln -s {FASTAI_ROOT} {FASTAI_SYMLINK}\n",
    "# !rm {FASTAI_SYMLINK}\n",
    "!ls -al . | grep fastai"
   ]
  },
  {
   "cell_type": "markdown",
   "metadata": {},
   "source": [
    "## Import fastai libraries"
   ]
  },
  {
   "cell_type": "code",
   "execution_count": 15,
   "metadata": {},
   "outputs": [
    {
     "name": "stderr",
     "output_type": "stream",
     "text": [
      "/home/hayley/miniconda3/envs/fastai/lib/python3.6/importlib/_bootstrap.py:219: ImportWarning: can't resolve package from __spec__ or __package__, falling back on __name__ and __path__\n",
      "  return f(*args, **kwds)\n",
      "/home/hayley/miniconda3/envs/fastai/lib/python3.6/site-packages/scipy/_lib/_numpy_compat.py:10: DeprecationWarning: Importing from numpy.testing.nosetester is deprecated, import from numpy.testing instead.\n",
      "  from numpy.testing.nosetester import import_nose\n",
      "/home/hayley/miniconda3/envs/fastai/lib/python3.6/importlib/_bootstrap.py:219: ImportWarning: can't resolve package from __spec__ or __package__, falling back on __name__ and __path__\n",
      "  return f(*args, **kwds)\n",
      "/home/hayley/miniconda3/envs/fastai/lib/python3.6/site-packages/scipy/stats/morestats.py:12: DeprecationWarning: Importing from numpy.testing.decorators is deprecated, import from numpy.testing instead.\n",
      "  from numpy.testing.decorators import setastest\n",
      "/home/hayley/miniconda3/envs/fastai/lib/python3.6/importlib/_bootstrap.py:219: ImportWarning: can't resolve package from __spec__ or __package__, falling back on __name__ and __path__\n",
      "  return f(*args, **kwds)\n"
     ]
    }
   ],
   "source": [
    "from fastai.dataloader import *\n",
    "from fastai.dataset import *"
   ]
  },
  {
   "cell_type": "markdown",
   "metadata": {},
   "source": [
    "### Import PyTorch\n"
   ]
  },
  {
   "cell_type": "code",
   "execution_count": 16,
   "metadata": {},
   "outputs": [
    {
     "ename": "SyntaxError",
     "evalue": "invalid syntax (<ipython-input-16-c40f41c3520e>, line 6)",
     "output_type": "error",
     "traceback": [
      "\u001b[0;36m  File \u001b[0;32m\"<ipython-input-16-c40f41c3520e>\"\u001b[0;36m, line \u001b[0;32m6\u001b[0m\n\u001b[0;31m    import torch.utils.data.dataset import Dataset\u001b[0m\n\u001b[0m                                         ^\u001b[0m\n\u001b[0;31mSyntaxError\u001b[0m\u001b[0;31m:\u001b[0m invalid syntax\n"
     ]
    }
   ],
   "source": [
    "import torch \n",
    "import torch.nn as nn\n",
    "import torch.nn.functional as F\n",
    "import torch.optim as optim\n",
    "\n",
    "import torch.utils.data.dataset import Dataset\n",
    "\n",
    "from torchvision import datasets, transforms\n",
    "from torch.autograd import Variable"
   ]
  },
  {
   "cell_type": "markdown",
   "metadata": {
    "toc-hr-collapsed": false
   },
   "source": [
    "## Set data path"
   ]
  },
  {
   "cell_type": "markdown",
   "metadata": {},
   "source": [
    "### Sample datasets\n"
   ]
  },
  {
   "cell_type": "code",
   "execution_count": 18,
   "metadata": {},
   "outputs": [
    {
     "ename": "NameError",
     "evalue": "name 'get_crop_dir' is not defined",
     "output_type": "error",
     "traceback": [
      "\u001b[0;31m---------------------------------------------------------------------------\u001b[0m",
      "\u001b[0;31mNameError\u001b[0m                                 Traceback (most recent call last)",
      "\u001b[0;32m<ipython-input-18-c9f34bd97a2f>\u001b[0m in \u001b[0;36m<module>\u001b[0;34m\u001b[0m\n\u001b[1;32m     15\u001b[0m \u001b[0;34m\u001b[0m\u001b[0m\n\u001b[1;32m     16\u001b[0m \u001b[0;31m# Cropped 100x100 tif image tiles\u001b[0m\u001b[0;34m\u001b[0m\u001b[0;34m\u001b[0m\u001b[0;34m\u001b[0m\u001b[0m\n\u001b[0;32m---> 17\u001b[0;31m \u001b[0msample_rgb_tile_dirs\u001b[0m \u001b[0;34m=\u001b[0m \u001b[0mlist\u001b[0m\u001b[0;34m(\u001b[0m\u001b[0mmap\u001b[0m\u001b[0;34m(\u001b[0m\u001b[0mget_crop_dir\u001b[0m\u001b[0;34m,\u001b[0m \u001b[0msample_rgb_dirs\u001b[0m\u001b[0;34m)\u001b[0m\u001b[0;34m)\u001b[0m\u001b[0;34m\u001b[0m\u001b[0;34m\u001b[0m\u001b[0m\n\u001b[0m\u001b[1;32m     18\u001b[0m \u001b[0msample_rgb8_tile_dirs\u001b[0m \u001b[0;34m=\u001b[0m \u001b[0mlist\u001b[0m\u001b[0;34m(\u001b[0m\u001b[0mmap\u001b[0m\u001b[0;34m(\u001b[0m\u001b[0mget_crop_dir\u001b[0m\u001b[0;34m,\u001b[0m \u001b[0msample_rgb8_dirs\u001b[0m\u001b[0;34m)\u001b[0m\u001b[0;34m)\u001b[0m\u001b[0;34m\u001b[0m\u001b[0;34m\u001b[0m\u001b[0m\n\u001b[1;32m     19\u001b[0m \u001b[0msample_mask_tile_dirs\u001b[0m \u001b[0;34m=\u001b[0m \u001b[0mlist\u001b[0m\u001b[0;34m(\u001b[0m\u001b[0mmap\u001b[0m\u001b[0;34m(\u001b[0m\u001b[0mget_crop_dir\u001b[0m\u001b[0;34m,\u001b[0m \u001b[0msample_mask_dirs\u001b[0m\u001b[0;34m)\u001b[0m\u001b[0;34m)\u001b[0m\u001b[0;34m\u001b[0m\u001b[0;34m\u001b[0m\u001b[0m\n",
      "\u001b[0;31mNameError\u001b[0m: name 'get_crop_dir' is not defined"
     ]
    }
   ],
   "source": [
    "DATA = Path(\"/home/hayley/Data_Spacenet/\")\n",
    "\n",
    "# Sample dataset\n",
    "sample_dir = Path(\"/home/hayley/Data_Spacenet/SpaceNet_Roads_Sample/\")\n",
    "sample_root_dirs = [sample_dir/ city for city in [\"AOI_2_Vegas_Roads_Sample\",  \n",
    "                                                  \"AOI_3_Paris_Roads_Sample\", \n",
    "                                                  \"AOI_4_Shanghai_Roads_Sample\", \n",
    "                                                  \"AOI_5_Khartoum_Roads_Sample\"]\n",
    "                   ]\n",
    "\n",
    "# Original big rgb(16), rgb8bits, mask (uint)\n",
    "sample_rgb_dirs = [root/\"RGB-PanSharpen\" for root in sample_root_dirs]\n",
    "sample_rgb8_dirs = [root/\"RGB-PanSharpen-8bits\" for root in sample_root_dirs]\n",
    "sample_mask_dirs = [root/\"Mask\" for root in sample_root_dirs]\n",
    "\n",
    "# Cropped 100x100 tif image tiles\n",
    "sample_rgb_tile_dirs = list(map(get_crop_dir, sample_rgb_dirs))\n",
    "sample_rgb8_tile_dirs = list(map(get_crop_dir, sample_rgb8_dirs))\n",
    "sample_mask_tile_dirs = list(map(get_crop_dir, sample_mask_dirs))\n",
    "# for d in sample_mask_tile_dirs:\n",
    "#     nprint(d, d.exists())\n",
    "\n",
    "sample_road_vec_dirs = [root/\"geojson/spacenetroads\" for root in sample_root_dirs]\n",
    "sample_buffer_vec_dirs = [root/\"geojson/buffer\" for root in sample_root_dirs]\n"
   ]
  },
  {
   "cell_type": "markdown",
   "metadata": {},
   "source": [
    "### Training datasets\n"
   ]
  },
  {
   "cell_type": "code",
   "execution_count": null,
   "metadata": {},
   "outputs": [],
   "source": [
    "vegas_root = Path(\"/home/hayley/Data_Spacenet/AOI_2_Vegas_Roads_Train/\")\n",
    "paris_root = Path(\"/home/hayley/Data_Spacenet/AOI_3_Paris_Roads_Train/\")\n",
    "shanghai_root = Path(\"/home/hayley/Data_Spacenet/AOI_4_Shanghai_Roads_Train/\")\n",
    "k_root = Path(\"/home/hayley/Data_Spacenet/AOI_5_Khartoum_Roads_Train/\")\n",
    "\n",
    "train_root_dirs = [vegas_root, paris_root, shanghai_root, k_root]\n",
    "\n",
    "# Original big rasters: rgb(16), rgb8bits, mask (uint)\n",
    "train_rgb_dirs = [root/\"RGB-PanSharpen\" for root in train_root_dirs]\n",
    "train_rgb8_dirs = [root/\"RGB-PanSharpen-8bits\" for root in train_root_dirs]\n",
    "train_mask_dirs = [root/\"Mask\" for root in train_root_dirs]\n",
    "\n",
    "# Cropped 100x100 tif image tiles\n",
    "train_rgb_tile_dirs = list(map(get_crop_dir, train_rgb_dirs))\n",
    "train_rgb8_tile_dirs = list(map(get_crop_dir, train_rgb8_dirs))\n",
    "train_mask_tile_dirs = list(map(get_crop_dir, train_mask_dirs))\n",
    "\n",
    "# vector file dirs\n",
    "train_road_vec_dirs = [root/\"geojson/spacenetroads\" for root in train_root_dirs]\n",
    "train_buffer_vec_dirs = [root/\"geojson/buffer\" for root in train_root_dirs]\n"
   ]
  },
  {
   "cell_type": "markdown",
   "metadata": {},
   "source": [
    "### Simple sample datasets"
   ]
  },
  {
   "cell_type": "code",
   "execution_count": null,
   "metadata": {},
   "outputs": [],
   "source": [
    "RGB8_DIR = Path('/home/hayley/Data_Spacenet/SpaceNet_Roads_Sample/'\n",
    "                'AOI_2_Vegas_Roads_Sample/RGB-PanSharpen-8bits/')\n",
    "RGB16_DIR = Path('/home/hayley/Data_Spacenet/SpaceNet_Roads_Sample/'\n",
    "                 'AOI_2_Vegas_Roads_Sample/RGB-PanSharpen/')\n",
    "MASK_DIR = Path('/home/hayley/Data_Spacenet/SpaceNet_Roads_Sample/'\n",
    "                'AOI_2_Vegas_Roads_Sample/Mask/')\n",
    "CROP8_DIR = RGB8_DIR.parent/\"RGB-PanSharpen-8bits-Crop\"\n",
    "CROP16_DIR = RGB16_DIR.parent/\"RGB-PanSharpen-Crop\""
   ]
  },
  {
   "cell_type": "code",
   "execution_count": null,
   "metadata": {},
   "outputs": [],
   "source": [
    "RGB8_FILES = [f for f in RGB8_DIR.iterdir() if f.suffix == '.tif']\n",
    "RGB16_FILES = [f for f in RGB16_DIR.iterdir() if f.suffix == '.tif']\n",
    "\n",
    "MASK_FILES = [f for f in MASK_DIR.iterdir() if f.suffix == '.tif']\n",
    "print(len(RGB8_FILES), len(MASK_FILES))"
   ]
  },
  {
   "cell_type": "code",
   "execution_count": null,
   "metadata": {},
   "outputs": [],
   "source": [
    "RGB8_CROP_DIR = RGB8_DIR.parent / 'RGB-PanSharpen-8bits-Crop'\n",
    "RGB8_CROP_DIR.mkdir(exist_ok=True)"
   ]
  },
  {
   "cell_type": "code",
   "execution_count": null,
   "metadata": {},
   "outputs": [],
   "source": [
    "# check if the simple image loading works\n",
    "im = cv2.imread(str(RGB8_FILES[0]), -1)"
   ]
  },
  {
   "cell_type": "code",
   "execution_count": null,
   "metadata": {},
   "outputs": [],
   "source": [
    "mask = cv2.imread(str(MASK_FILES[0]),-1)\n",
    "nprint(\"im shape: \", im.shape)\n",
    "nprint('mask shape: ', mask.shape)\n",
    "plt.imshow(im)"
   ]
  },
  {
   "cell_type": "code",
   "execution_count": null,
   "metadata": {},
   "outputs": [],
   "source": [
    "# Create train, dev, test indices"
   ]
  },
  {
   "cell_type": "code",
   "execution_count": 23,
   "metadata": {},
   "outputs": [
    {
     "data": {
      "text/plain": [
       "(-1, 1)"
      ]
     },
     "execution_count": 23,
     "metadata": {},
     "output_type": "execute_result"
    },
    {
     "data": {
      "image/png": "[encoded data removed]",
      "text/plain": [
       "<Figure size 1440x720 with 1 Axes>"
      ]
     },
     "metadata": {
      "needs_background": "light"
     },
     "output_type": "display_data"
    }
   ],
   "source": [
    "matplotlib.rcParams['figure.figsize'] = (20.0, 10.0)\n",
    "\n",
    "\n",
    "x = np.linspace(-5,5,1000)\n",
    "y1 = 2*x + 5\n",
    "\n",
    "def sigmoid(x):\n",
    "    return 1/(1+np.exp(-x))\n",
    "\n",
    "y2 = sigmoid(y1)\n",
    "\n",
    "f, ax = plt.subplots()\n",
    "ax.plot(x,y1, color='r', label='y=2x+5')\n",
    "ax.plot(x,y2, color='b', label='y=sigmoid(2x+5)')\n",
    "ax.legend()\n",
    "ax.grid(True)\n",
    "ax.set_ylim(-1,1)"
   ]
  },
  {
   "cell_type": "code",
   "execution_count": null,
   "metadata": {},
   "outputs": [],
   "source": []
  },
  {
   "cell_type": "code",
   "execution_count": null,
   "metadata": {},
   "outputs": [],
   "source": []
  },
  {
   "cell_type": "code",
   "execution_count": null,
   "metadata": {},
   "outputs": [],
   "source": []
  },
  {
   "cell_type": "code",
   "execution_count": null,
   "metadata": {},
   "outputs": [],
   "source": []
  },
  {
   "cell_type": "code",
   "execution_count": null,
   "metadata": {},
   "outputs": [],
   "source": []
  },
  {
   "cell_type": "code",
   "execution_count": null,
   "metadata": {},
   "outputs": [],
   "source": []
  },
  {
   "cell_type": "code",
   "execution_count": null,
   "metadata": {},
   "outputs": [],
   "source": []
  },
  {
   "cell_type": "code",
   "execution_count": null,
   "metadata": {},
   "outputs": [],
   "source": []
  },
  {
   "cell_type": "code",
   "execution_count": null,
   "metadata": {},
   "outputs": [],
   "source": []
  },
  {
   "cell_type": "code",
   "execution_count": null,
   "metadata": {},
   "outputs": [],
   "source": []
  },
  {
   "cell_type": "code",
   "execution_count": null,
   "metadata": {},
   "outputs": [],
   "source": []
  },
  {
   "cell_type": "code",
   "execution_count": null,
   "metadata": {},
   "outputs": [],
   "source": []
  },
  {
   "cell_type": "code",
   "execution_count": null,
   "metadata": {},
   "outputs": [],
   "source": []
  },
  {
   "cell_type": "code",
   "execution_count": null,
   "metadata": {},
   "outputs": [],
   "source": []
  }
 ],
 "metadata": {
  "kernelspec": {
   "display_name": "Python 3",
   "language": "python",
   "name": "python3"
  },
  "language_info": {
   "codemirror_mode": {
    "name": "ipython",
    "version": 3
   },
   "file_extension": ".py",
   "mimetype": "text/x-python",
   "name": "python",
   "nbconvert_exporter": "python",
   "pygments_lexer": "ipython3",
   "version": "3.6.7"
  }
 },
 "nbformat": 4,
 "nbformat_minor": 2
}
