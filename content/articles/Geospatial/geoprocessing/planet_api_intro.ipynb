{
  "cells": [
    {
      "cell_type": "markdown",
      "source": [
        "# Planet API Introduction\n",
        "- [Ref](https://github.com/planetlabs/notebooks/blob/master/jupyter-notebooks/data-api-tutorials/planet_data_api_introduction.ipynb)"
      ],
      "metadata": {}
    },
    {
      "cell_type": "code",
      "source": [
        "import os, json, requests\n",
        "from requests.auth import HTTPBasicAuth\n",
        "from pprint import pprint\n",
        "\n",
        "os.environ['PL_API_KEY']  = '7d8af35b6e944f33bb5e33ada32ab4a0'\n",
        "PL_API_KEY = os.getenv('PL_API_KEY')\n",
        "PL_AUTH = HTTPBasicAuth(PLANET_API_KEY, '')\n",
        "\n",
        "# Setup Planet Data API base URL\n",
        "BASE_URL = \"https://api.planet.com/data/v1\"\n",
        "\n",
        "#Setup the session\n",
        "session = requests.Session()"
      ],
      "outputs": [],
      "execution_count": null,
      "metadata": {}
    },
    {
      "cell_type": "code",
      "source": [
        "roi_data = {\n",
        "  \"type\": \"FeatureCollection\",\n",
        "  \"features\": [\n",
        "    {\n",
        "      \"type\": \"Feature\",\n",
        "      \"properties\": {},\n",
        "      \"geometry\": {\n",
        "        \"type\": \"Polygon\",\n",
        "        \"coordinates\": [\n",
        "          [\n",
        "            [\n",
        "              -118.2967472076416,\n",
        "              34.00578318672437\n",
        "            ],\n",
        "            [\n",
        "              -118.22739601135252,\n",
        "              34.00578318672437\n",
        "            ],\n",
        "            [\n",
        "              -118.22739601135252,\n",
        "              34.07846940942791\n",
        "            ],\n",
        "            [\n",
        "              -118.2967472076416,\n",
        "              34.07846940942791\n",
        "            ],\n",
        "            [\n",
        "              -118.2967472076416,\n",
        "              34.00578318672437\n",
        "            ]\n",
        "          ]\n",
        "        ]\n",
        "      }\n",
        "    }\n",
        "  ]\n",
        "}"
      ],
      "outputs": [],
      "execution_count": null,
      "metadata": {}
    },
    {
      "cell_type": "code",
      "source": [
        "roi_geom = roi_data['features'][0]['geometry']"
      ],
      "outputs": [],
      "execution_count": null,
      "metadata": {}
    },
    {
      "cell_type": "code",
      "source": [
        "roi_geom"
      ],
      "outputs": [],
      "execution_count": null,
      "metadata": {}
    },
    {
      "cell_type": "code",
      "source": [
        "# Filters to download data"
      ],
      "outputs": [],
      "execution_count": null,
      "metadata": {}
    },
    {
      "cell_type": "code",
      "source": [
        "geom_filter = {\n",
        "    'type': 'GeometryFilter',\n",
        "    'field_name': 'geometry',\n",
        "    'config': roi_geom\n",
        "}\n",
        "\n",
        "date_range_filter = {\n",
        "    'type': 'DateRangeFilter',\n",
        "    'field_name': 'acquired', #meaning, captured by satellite\n",
        "    'config': {\n",
        "        \"gte\": \"2016-03-01T00:00:00.000Z\",\n",
        "        \"lte\": \"2016-09-01T00:00:00.000Z\"\n",
        "    }\n",
        "}\n",
        "\n",
        "cloud_cover_filter = {\n",
        "    'type':'RangeFilter',\n",
        "    'field_name': 'cloud_cover',\n",
        "    'config': {\n",
        "        \"lte\":0.1\n",
        "    }\n",
        "}\n",
        "\n",
        "combined_filter = {\n",
        "    'type': 'AndFilter',\n",
        "    'config': [geom_filter, date_range_filter, cloud_cover_filter]\n",
        "}"
      ],
      "outputs": [],
      "execution_count": null,
      "metadata": {}
    },
    {
      "cell_type": "markdown",
      "source": [
        "## Request data"
      ],
      "metadata": {}
    },
    {
      "cell_type": "code",
      "source": [
        "# PLANET_API_KEY = '7d8af35b6e944f33bb5e33ada32ab4a0'\n",
        "ITEM_TYPE = 'PSScene4Band'\n",
        "SEARCH_URL = 'https://api.planet.com/data/v1/quick-search'\n",
        "ASSET_TYPE = 'analytic'\n",
        "\n",
        "# api request object\n",
        "search_request = {\n",
        "    'interval': 'day',\n",
        "    'item_types': [ITEM_TYPE],\n",
        "    'filter': combined_filter\n",
        "}\n",
        "\n",
        "# send the POST request\n",
        "search_result = requests.post(SEARCH_URL,\n",
        "                              auth=PL_AUTH,\n",
        "                              json=search_request)\n",
        "\n",
        "# print(json.dumps(search_result.json(), indent=1))  \n",
        "# "
      ],
      "outputs": [],
      "execution_count": null,
      "metadata": {}
    },
    {
      "cell_type": "code",
      "source": [],
      "outputs": [],
      "execution_count": null,
      "metadata": {}
    },
    {
      "cell_type": "code",
      "source": [
        "print(search_result.json().keys())\n",
        "pprint(search_result.json()['_links'])"
      ],
      "outputs": [],
      "execution_count": null,
      "metadata": {}
    },
    {
      "cell_type": "code",
      "source": [
        "features = search_result.json()['features']\n",
        "print('number of images retrieved: ', len(features))\n",
        "scene_ids = [features[idx]['id'] for idx in range(len(features))]\n",
        "scene_links = [f['_links'] for f in features]\n",
        "pprint([(scene_id, scene_link) \n",
        "        for (scene_id, scene_link) in zip(scene_ids[:5], scene_links[:5])])\n",
        "\n",
        "\n"
      ],
      "outputs": [],
      "execution_count": null,
      "metadata": {}
    },
    {
      "cell_type": "code",
      "source": [
        "id0 = img_ids[0]\n",
        "id0_url = f'https://api.planet.com/data/v1/item-types/{item_type}/items/{id0}/assets'\n",
        "print('id0_url: ', id0_url)"
      ],
      "outputs": [],
      "execution_count": null,
      "metadata": {}
    },
    {
      "cell_type": "code",
      "source": [
        "def get_asset_url(item_type,scene_id):\n",
        "    return f'https://api.planet.com/data/v1/item-types/{item_type}/items/{scene_id}/assets'\n",
        "\n",
        "print(ASSET_URL(ITEM_TYPE, id0))"
      ],
      "outputs": [],
      "execution_count": null,
      "metadata": {}
    },
    {
      "cell_type": "code",
      "source": [
        "# which assets are available for this image?\n",
        "result = requests.get(\n",
        "    id0_url,\n",
        "    auth=PL_AUTH\n",
        ").json()\n",
        "\n",
        "pprint(result.keys())"
      ],
      "outputs": [],
      "execution_count": null,
      "metadata": {}
    },
    {
      "cell_type": "markdown",
      "source": [
        "## Clip scenes to AOI"
      ],
      "metadata": {}
    },
    {
      "cell_type": "code",
      "source": [
        "#clip API request payload\n",
        "CLIP_URL = 'https://api.planet.com/compute/ops/clips/v1'\n",
        "clip_payload = {\n",
        "    'aoi': roi_geom,\n",
        "    'targets': [{'item_id': sid, \n",
        "                'item_type': ITEM_TYPE,\n",
        "                'asset_type': ASSET_TYPE} for sid in scene_ids[:1]\n",
        "               ]\n",
        "}\n",
        "pprint(clip_payload['targets'])"
      ],
      "outputs": [],
      "execution_count": null,
      "metadata": {}
    },
    {
      "cell_type": "code",
      "source": [
        "# Request clip operation on target scenes\n",
        "clip_response = requests.post(\n",
        "    CLIP_URL,\n",
        "    auth=PL_AUTH,\n",
        "    json=clip_payload)"
      ],
      "outputs": [],
      "execution_count": null,
      "metadata": {}
    },
    {
      "cell_type": "code",
      "source": [
        "result_url = clip_response"
      ],
      "outputs": [],
      "execution_count": null,
      "metadata": {}
    },
    {
      "cell_type": "code",
      "source": [
        "check_state_request = requests.get(\n",
        "    clip_response.json()['_links']['_self'],\n",
        "    auth=PL_AUTH)"
      ],
      "outputs": [],
      "execution_count": null,
      "metadata": {}
    },
    {
      "cell_type": "code",
      "source": [
        "if check_state_request.json()['state'] == 'succeeded':\n",
        "    clip_download_url = check_state_request.json()['_links']['results'][0]"
      ],
      "outputs": [],
      "execution_count": null,
      "metadata": {}
    },
    {
      "cell_type": "code",
      "source": [
        "clip_download_url\n"
      ],
      "outputs": [],
      "execution_count": null,
      "metadata": {}
    },
    {
      "cell_type": "code",
      "source": [
        "clip_download_response = requests.get(clip_download_url, stream=True)\n",
        "with open('./output/temp.zip', 'wb') as w:\n",
        "    for data in tqdm(clip_download_response.iter_content()):\n",
        "        w.write(data)"
      ],
      "outputs": [],
      "execution_count": null,
      "metadata": {}
    },
    {
      "cell_type": "code",
      "source": [
        "#unzip\n",
        "zipped = zipfile.ZipFile('./output/temp.zip')\n",
        "zipped.extractall('./output/temp')\n"
      ],
      "outputs": [],
      "execution_count": null,
      "metadata": {}
    },
    {
      "cell_type": "code",
      "source": [
        "!ls output\n",
        "!unzip output/temp.zip"
      ],
      "outputs": [],
      "execution_count": null,
      "metadata": {}
    },
    {
      "cell_type": "markdown",
      "source": [
        "## Activation and Downloading"
      ],
      "metadata": {}
    },
    {
      "cell_type": "code",
      "source": [
        "def activate(scene_ids, item_links, \n",
        "             item_type=ITEM_TYPE, asset_type=ASSET_TYPE):\n",
        "    for scene_id in scene_ids:\n",
        "        head_asset_url = get_asset_url(item_type, scene_id)\n",
        "        asset_response = responses.get\n",
        "    \n",
        "    "
      ],
      "outputs": [],
      "execution_count": null,
      "metadata": {}
    },
    {
      "cell_type": "code",
      "source": [
        "#is this image's analytic asset already activated?\n",
        "print(result['analytic'].keys())\n",
        "print(result['analytic']['status'])"
      ],
      "outputs": [],
      "execution_count": null,
      "metadata": {}
    },
    {
      "cell_type": "code",
      "source": [
        "# let's activate this asset for download\n",
        "# some useful links\n",
        "links = result['analytic']['_links'];print(links)\n",
        "self_link = links['_self']\n",
        "activation_link = links['activate']"
      ],
      "outputs": [],
      "execution_count": null,
      "metadata": {}
    },
    {
      "cell_type": "code",
      "source": [
        "# request the activation of this asset\n",
        "activate_result = requests.get(\n",
        "    activation_link,\n",
        "    auth=PL_AUTH\n",
        ")"
      ],
      "outputs": [],
      "execution_count": null,
      "metadata": {}
    },
    {
      "cell_type": "code",
      "source": [
        "# check if the asset is activated\n",
        "activation_status_result = requests.get(\n",
        "    self_link,\n",
        "    auth=PL_AUTH\n",
        ")"
      ],
      "outputs": [],
      "execution_count": null,
      "metadata": {}
    },
    {
      "cell_type": "code",
      "source": [
        "activation_status_result = activation_status_result.json()"
      ],
      "outputs": [],
      "execution_count": null,
      "metadata": {}
    },
    {
      "cell_type": "code",
      "source": [
        "pprint(activation_status_result)"
      ],
      "outputs": [],
      "execution_count": null,
      "metadata": {}
    },
    {
      "cell_type": "code",
      "source": [
        "# download link\n",
        "dlink = activation_status_result['location']\n",
        "print('download link: \\n', dlink)"
      ],
      "outputs": [],
      "execution_count": null,
      "metadata": {}
    },
    {
      "cell_type": "code",
      "source": [
        "dlink_response = requests.get(\n",
        "        dlink, stream=True)"
      ],
      "outputs": [],
      "execution_count": null,
      "metadata": {}
    },
    {
      "cell_type": "code",
      "source": [
        "import zipfile\n",
        "from tqdm import tqdm"
      ],
      "outputs": [],
      "execution_count": null,
      "metadata": {}
    },
    {
      "cell_type": "code",
      "source": [
        "# scene_id = '20160715_174333_0e0e'\n",
        "scene_id = 'sample'\n",
        "outname = f'./output/{scene_id}.zip'\n",
        "with open(outname, 'wb') as w:\n",
        "    for data in tqdm(dlink_response.iter_content()):\n",
        "        w.write(data)\n",
        "        "
      ],
      "outputs": [],
      "execution_count": null,
      "metadata": {}
    },
    {
      "cell_type": "code",
      "source": [
        "dlink_result.json()"
      ],
      "outputs": [],
      "execution_count": null,
      "metadata": {}
    },
    {
      "cell_type": "markdown",
      "source": [
        "\n",
        "## View downloaded image using rasterio\n"
      ],
      "metadata": {}
    },
    {
      "cell_type": "code",
      "source": [
        "import rasterio as rio\n",
        "from rasterio.plot import reshape_as_image, reshape_as_raster\n",
        "\n",
        "import matplotlib.pyplot as plt\n",
        "%matplotlib inline\n",
        "\n",
        "import pdb"
      ],
      "outputs": [],
      "execution_count": null,
      "metadata": {}
    },
    {
      "cell_type": "code",
      "source": [
        "fname = './images/20160731_174506_0e30_3B_AnalyticMS.tif'\n",
        "img = None\n",
        "with rio.open(fname, 'r') as ds:\n",
        "#     pdb.set_trace()\n",
        "    b,g,r,n = ds.read()\n",
        "    img = np.dstack([r,g,b])\n",
        "#     img = reshape_as_image(ds.read())\n",
        "plt.imshow(img)"
      ],
      "outputs": [],
      "execution_count": null,
      "metadata": {}
    },
    {
      "cell_type": "code",
      "source": [
        "f,ax = plt.subplots(3,1,figsize=(20,20))\n",
        "ax = ax.flatten()\n",
        "for i,cimg in enumerate([r,g,b]):\n",
        "    ax[i].hist(np.histogram(cimg))\n",
        "    \n",
        "    "
      ],
      "outputs": [],
      "execution_count": null,
      "metadata": {}
    },
    {
      "cell_type": "code",
      "source": [
        "temp = np.dstack([b,g]); print(temp.shape)"
      ],
      "outputs": [],
      "execution_count": null,
      "metadata": {}
    }
  ],
  "metadata": {
    "kernelspec": {
      "display_name": "Python [conda env:pyviz]",
      "language": "python",
      "name": "conda-env-pyviz-py"
    },
    "language_info": {
      "codemirror_mode": {
        "name": "ipython",
        "version": 3
      },
      "file_extension": ".py",
      "mimetype": "text/x-python",
      "name": "python",
      "nbconvert_exporter": "python",
      "pygments_lexer": "ipython3",
      "version": "3.6.7"
    },
    "nteract": {
      "version": "0.15.0"
    }
  },
  "nbformat": 4,
  "nbformat_minor": 2
}