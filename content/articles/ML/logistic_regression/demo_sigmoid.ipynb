{
  "cells": [
    {
      "cell_type": "markdown",
      "source": [
        "## Load libraries"
      ],
      "metadata": {}
    },
    {
      "cell_type": "code",
      "source": [
        "%reload_ext autoreload\n",
        "%autoreload 2\n",
        "%matplotlib inline"
      ],
      "outputs": [],
      "execution_count": null,
      "metadata": {}
    },
    {
      "cell_type": "code",
      "source": [
        "from IPython.core.interactiveshell import InteractiveShell\n",
        "# InteractiveShell.ast_node_interactivity = \"all\"\n",
        "InteractiveShell.ast_node_interactivity = 'last_expr'"
      ],
      "outputs": [],
      "execution_count": null,
      "metadata": {}
    },
    {
      "cell_type": "code",
      "source": [
        "import os,sys\n",
        "import re\n",
        "\n",
        "sys.dont_write_bytecode = True"
      ],
      "outputs": [],
      "execution_count": null,
      "metadata": {}
    },
    {
      "cell_type": "code",
      "source": [
        "import pandas as pd\n",
        "# import geopandas as gpd\n",
        "from sklearn.externals import joblib\n",
        "\n",
        "import numpy as np\n",
        "import matplotlib.pyplot as plt\n",
        "import cv2\n",
        "\n",
        "from pprint import pprint\n",
        "from pathlib import Path\n",
        "\n",
        "import pdb"
      ],
      "outputs": [],
      "execution_count": null,
      "metadata": {}
    },
    {
      "cell_type": "code",
      "source": [
        "this_nb_path = Path(os.getcwd())\n",
        "ROOT = this_nb_path.parent.parent\n",
        "SCRIPTS = ROOT/'scripts'\n",
        "paths2add = [this_nb_path, SCRIPTS]\n",
        "\n",
        "print(\"Project root: \", str(ROOT))\n",
        "print(\"this nb path: \", str(this_nb_path))\n",
        "print('Scripts folder: ', str(SCRIPTS))\n",
        "\n",
        "for p in paths2add:\n",
        "    if str(p) not in sys.path:\n",
        "        sys.path.insert(0, str(p))\n",
        "        print(str(p), \"added to the path\\n\")\n",
        "        \n",
        "print(sys.path)"
      ],
      "outputs": [],
      "execution_count": null,
      "metadata": {}
    },
    {
      "cell_type": "code",
      "source": [
        "# Load custom helper libraries\n",
        "import output_helpers as oh\n",
        "import convert_helpers as ch\n",
        "import viz_helpers as vh\n"
      ],
      "outputs": [],
      "execution_count": null,
      "metadata": {}
    },
    {
      "cell_type": "markdown",
      "source": [
        "## Link fastai library"
      ],
      "metadata": {}
    },
    {
      "cell_type": "code",
      "source": [
        "FASTAI_ROOT = '/home/hayley/Workspace/fastai/old/fastai'\n",
        "FASTAI_SYMLINK = os.path.join(this_nb_path, 'fastai')\n",
        "!echo {FASTAI_ROOT}, {FASTAI_SYMLINK}"
      ],
      "outputs": [],
      "execution_count": null,
      "metadata": {}
    },
    {
      "cell_type": "code",
      "source": [
        "# !ln -s {FASTAI_ROOT} {FASTAI_SYMLINK}\n",
        "# !rm {FASTAI_SYMLINK}\n",
        "!ls -al . | grep fastai"
      ],
      "outputs": [],
      "execution_count": null,
      "metadata": {}
    },
    {
      "cell_type": "markdown",
      "source": [
        "## Import fastai libraries"
      ],
      "metadata": {}
    },
    {
      "cell_type": "code",
      "source": [
        "from fastai.dataloader import *\n",
        "from fastai.dataset import *"
      ],
      "outputs": [],
      "execution_count": null,
      "metadata": {}
    },
    {
      "cell_type": "markdown",
      "source": [
        "### Import PyTorch\n"
      ],
      "metadata": {}
    },
    {
      "cell_type": "code",
      "source": [
        "import torch \n",
        "import torch.nn as nn\n",
        "import torch.nn.functional as F\n",
        "import torch.optim as optim\n",
        "\n",
        "import torch.utils.data.dataset import Dataset\n",
        "\n",
        "from torchvision import datasets, transforms\n",
        "from torch.autograd import Variable"
      ],
      "outputs": [],
      "execution_count": null,
      "metadata": {}
    },
    {
      "cell_type": "markdown",
      "source": [
        "## Set data path"
      ],
      "metadata": {
        "toc-hr-collapsed": false
      }
    },
    {
      "cell_type": "markdown",
      "source": [
        "### Sample datasets\n"
      ],
      "metadata": {}
    },
    {
      "cell_type": "code",
      "source": [
        "DATA = Path(\"/home/hayley/Data_Spacenet/\")\n",
        "\n",
        "# Sample dataset\n",
        "sample_dir = Path(\"/home/hayley/Data_Spacenet/SpaceNet_Roads_Sample/\")\n",
        "sample_root_dirs = [sample_dir/ city for city in [\"AOI_2_Vegas_Roads_Sample\",  \n",
        "                                                  \"AOI_3_Paris_Roads_Sample\", \n",
        "                                                  \"AOI_4_Shanghai_Roads_Sample\", \n",
        "                                                  \"AOI_5_Khartoum_Roads_Sample\"]\n",
        "                   ]\n",
        "\n",
        "# Original big rgb(16), rgb8bits, mask (uint)\n",
        "sample_rgb_dirs = [root/\"RGB-PanSharpen\" for root in sample_root_dirs]\n",
        "sample_rgb8_dirs = [root/\"RGB-PanSharpen-8bits\" for root in sample_root_dirs]\n",
        "sample_mask_dirs = [root/\"Mask\" for root in sample_root_dirs]\n",
        "\n",
        "# Cropped 100x100 tif image tiles\n",
        "sample_rgb_tile_dirs = list(map(get_crop_dir, sample_rgb_dirs))\n",
        "sample_rgb8_tile_dirs = list(map(get_crop_dir, sample_rgb8_dirs))\n",
        "sample_mask_tile_dirs = list(map(get_crop_dir, sample_mask_dirs))\n",
        "# for d in sample_mask_tile_dirs:\n",
        "#     nprint(d, d.exists())\n",
        "\n",
        "sample_road_vec_dirs = [root/\"geojson/spacenetroads\" for root in sample_root_dirs]\n",
        "sample_buffer_vec_dirs = [root/\"geojson/buffer\" for root in sample_root_dirs]\n"
      ],
      "outputs": [],
      "execution_count": null,
      "metadata": {}
    },
    {
      "cell_type": "markdown",
      "source": [
        "### Training datasets\n"
      ],
      "metadata": {}
    },
    {
      "cell_type": "code",
      "source": [
        "vegas_root = Path(\"/home/hayley/Data_Spacenet/AOI_2_Vegas_Roads_Train/\")\n",
        "paris_root = Path(\"/home/hayley/Data_Spacenet/AOI_3_Paris_Roads_Train/\")\n",
        "shanghai_root = Path(\"/home/hayley/Data_Spacenet/AOI_4_Shanghai_Roads_Train/\")\n",
        "k_root = Path(\"/home/hayley/Data_Spacenet/AOI_5_Khartoum_Roads_Train/\")\n",
        "\n",
        "train_root_dirs = [vegas_root, paris_root, shanghai_root, k_root]\n",
        "\n",
        "# Original big rasters: rgb(16), rgb8bits, mask (uint)\n",
        "train_rgb_dirs = [root/\"RGB-PanSharpen\" for root in train_root_dirs]\n",
        "train_rgb8_dirs = [root/\"RGB-PanSharpen-8bits\" for root in train_root_dirs]\n",
        "train_mask_dirs = [root/\"Mask\" for root in train_root_dirs]\n",
        "\n",
        "# Cropped 100x100 tif image tiles\n",
        "train_rgb_tile_dirs = list(map(get_crop_dir, train_rgb_dirs))\n",
        "train_rgb8_tile_dirs = list(map(get_crop_dir, train_rgb8_dirs))\n",
        "train_mask_tile_dirs = list(map(get_crop_dir, train_mask_dirs))\n",
        "\n",
        "# vector file dirs\n",
        "train_road_vec_dirs = [root/\"geojson/spacenetroads\" for root in train_root_dirs]\n",
        "train_buffer_vec_dirs = [root/\"geojson/buffer\" for root in train_root_dirs]\n"
      ],
      "outputs": [],
      "execution_count": null,
      "metadata": {}
    },
    {
      "cell_type": "markdown",
      "source": [
        "### Simple sample datasets"
      ],
      "metadata": {}
    },
    {
      "cell_type": "code",
      "source": [
        "RGB8_DIR = Path('/home/hayley/Data_Spacenet/SpaceNet_Roads_Sample/'\n",
        "                'AOI_2_Vegas_Roads_Sample/RGB-PanSharpen-8bits/')\n",
        "RGB16_DIR = Path('/home/hayley/Data_Spacenet/SpaceNet_Roads_Sample/'\n",
        "                 'AOI_2_Vegas_Roads_Sample/RGB-PanSharpen/')\n",
        "MASK_DIR = Path('/home/hayley/Data_Spacenet/SpaceNet_Roads_Sample/'\n",
        "                'AOI_2_Vegas_Roads_Sample/Mask/')\n",
        "CROP8_DIR = RGB8_DIR.parent/\"RGB-PanSharpen-8bits-Crop\"\n",
        "CROP16_DIR = RGB16_DIR.parent/\"RGB-PanSharpen-Crop\""
      ],
      "outputs": [],
      "execution_count": null,
      "metadata": {}
    },
    {
      "cell_type": "code",
      "source": [
        "RGB8_FILES = [f for f in RGB8_DIR.iterdir() if f.suffix == '.tif']\n",
        "RGB16_FILES = [f for f in RGB16_DIR.iterdir() if f.suffix == '.tif']\n",
        "\n",
        "MASK_FILES = [f for f in MASK_DIR.iterdir() if f.suffix == '.tif']\n",
        "print(len(RGB8_FILES), len(MASK_FILES))"
      ],
      "outputs": [],
      "execution_count": null,
      "metadata": {}
    },
    {
      "cell_type": "code",
      "source": [
        "RGB8_CROP_DIR = RGB8_DIR.parent / 'RGB-PanSharpen-8bits-Crop'\n",
        "RGB8_CROP_DIR.mkdir(exist_ok=True)"
      ],
      "outputs": [],
      "execution_count": null,
      "metadata": {}
    },
    {
      "cell_type": "code",
      "source": [
        "# check if the simple image loading works\n",
        "im = cv2.imread(str(RGB8_FILES[0]), -1)"
      ],
      "outputs": [],
      "execution_count": null,
      "metadata": {}
    },
    {
      "cell_type": "code",
      "source": [
        "mask = cv2.imread(str(MASK_FILES[0]),-1)\n",
        "nprint(\"im shape: \", im.shape)\n",
        "nprint('mask shape: ', mask.shape)\n",
        "plt.imshow(im)"
      ],
      "outputs": [],
      "execution_count": null,
      "metadata": {}
    },
    {
      "cell_type": "code",
      "source": [
        "# Create train, dev, test indices"
      ],
      "outputs": [],
      "execution_count": null,
      "metadata": {}
    },
    {
      "cell_type": "code",
      "source": [
        "matplotlib.rcParams['figure.figsize'] = (20.0, 10.0)\n",
        "\n",
        "\n",
        "x = np.linspace(-5,5,1000)\n",
        "y1 = 2*x + 5\n",
        "\n",
        "def sigmoid(x):\n",
        "    return 1/(1+np.exp(-x))\n",
        "\n",
        "y2 = sigmoid(y1)\n",
        "\n",
        "f, ax = plt.subplots()\n",
        "ax.plot(x,y1, color='r', label='y=2x+5')\n",
        "ax.plot(x,y2, color='b', label='y=sigmoid(2x+5)')\n",
        "ax.legend()\n",
        "ax.grid(True)\n",
        "ax.set_ylim(-1,1)"
      ],
      "outputs": [],
      "execution_count": null,
      "metadata": {}
    }
  ],
  "metadata": {
    "kernelspec": {
      "name": "python3",
      "language": "python",
      "display_name": "earthml"
    },
    "language_info": {
      "name": "python",
      "version": "3.7.3",
      "mimetype": "text/x-python",
      "codemirror_mode": {
        "name": "ipython",
        "version": 3
      },
      "pygments_lexer": "ipython3",
      "nbconvert_exporter": "python",
      "file_extension": ".py"
    },
    "kernel_info": {
      "name": "python3"
    },
    "nteract": {
      "version": "0.15.0"
    }
  },
  "nbformat": 4,
  "nbformat_minor": 2
}